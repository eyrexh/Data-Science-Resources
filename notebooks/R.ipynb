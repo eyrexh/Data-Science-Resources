{
 "cells": [
  {
   "cell_type": "markdown",
   "id": "9c970cfe-fa36-4876-a535-47cc98d3cf66",
   "metadata": {},
   "source": [
    "# R"
   ]
  },
  {
   "cell_type": "code",
   "execution_count": 2,
   "id": "7c7c9337-068d-4eb5-aaf3-6119288e8327",
   "metadata": {},
   "outputs": [
    {
     "name": "stdout",
     "output_type": "stream",
     "text": [
      "[1] \"R\"\n"
     ]
    }
   ],
   "source": [
    "print(\"R\")"
   ]
  }
 ],
 "metadata": {
  "kernelspec": {
   "display_name": "R",
   "language": "R",
   "name": "ir"
  },
  "language_info": {
   "codemirror_mode": "r",
   "file_extension": ".r",
   "mimetype": "text/x-r-source",
   "name": "R",
   "pygments_lexer": "r",
   "version": "4.2.1"
  }
 },
 "nbformat": 4,
 "nbformat_minor": 5
}
